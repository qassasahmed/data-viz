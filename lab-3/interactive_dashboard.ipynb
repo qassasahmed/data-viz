{
 "cells": [
  {
   "cell_type": "markdown",
   "id": "9fe75c30",
   "metadata": {},
   "source": [
    "# Import Required Libraries"
   ]
  },
  {
   "cell_type": "code",
   "execution_count": 13,
   "id": "9a3146b0",
   "metadata": {},
   "outputs": [
    {
     "name": "stdout",
     "output_type": "stream",
     "text": [
      "Requirement already satisfied: pandas>=1.0 in c:\\users\\qassas\\appdata\\local\\programs\\python\\python313\\lib\\site-packages (from -r requirements.txt (line 1)) (2.3.3)\n",
      "Requirement already satisfied: numpy>=1.18 in c:\\users\\qassas\\appdata\\local\\programs\\python\\python313\\lib\\site-packages (from -r requirements.txt (line 2)) (2.3.4)\n",
      "Requirement already satisfied: seaborn>=0.11 in c:\\users\\qassas\\appdata\\local\\programs\\python\\python313\\lib\\site-packages (from -r requirements.txt (line 3)) (0.13.2)\n",
      "Requirement already satisfied: matplotlib>=3.1 in c:\\users\\qassas\\appdata\\local\\programs\\python\\python313\\lib\\site-packages (from -r requirements.txt (line 4)) (3.10.7)\n",
      "Requirement already satisfied: plotly>=5.0 in c:\\users\\qassas\\appdata\\local\\programs\\python\\python313\\lib\\site-packages (from -r requirements.txt (line 5)) (6.3.1)\n",
      "Requirement already satisfied: dash>=2.0 in c:\\users\\qassas\\appdata\\local\\programs\\python\\python313\\lib\\site-packages (from -r requirements.txt (line 6)) (3.2.0)\n",
      "Requirement already satisfied: nbformat>=4.2.0 in c:\\users\\qassas\\appdata\\local\\programs\\python\\python313\\lib\\site-packages (from -r requirements.txt (line 7)) (5.10.4)\n",
      "Requirement already satisfied: scikit-learn>=0.24 in c:\\users\\qassas\\appdata\\local\\programs\\python\\python313\\lib\\site-packages (from -r requirements.txt (line 8)) (1.7.2)\n",
      "Requirement already satisfied: python-dateutil>=2.8.2 in c:\\users\\qassas\\appdata\\roaming\\python\\python313\\site-packages (from pandas>=1.0->-r requirements.txt (line 1)) (2.9.0.post0)\n",
      "Requirement already satisfied: pytz>=2020.1 in c:\\users\\qassas\\appdata\\local\\programs\\python\\python313\\lib\\site-packages (from pandas>=1.0->-r requirements.txt (line 1)) (2025.2)\n",
      "Requirement already satisfied: tzdata>=2022.7 in c:\\users\\qassas\\appdata\\local\\programs\\python\\python313\\lib\\site-packages (from pandas>=1.0->-r requirements.txt (line 1)) (2025.2)\n",
      "Requirement already satisfied: contourpy>=1.0.1 in c:\\users\\qassas\\appdata\\local\\programs\\python\\python313\\lib\\site-packages (from matplotlib>=3.1->-r requirements.txt (line 4)) (1.3.3)\n",
      "Requirement already satisfied: cycler>=0.10 in c:\\users\\qassas\\appdata\\local\\programs\\python\\python313\\lib\\site-packages (from matplotlib>=3.1->-r requirements.txt (line 4)) (0.12.1)\n",
      "Requirement already satisfied: fonttools>=4.22.0 in c:\\users\\qassas\\appdata\\local\\programs\\python\\python313\\lib\\site-packages (from matplotlib>=3.1->-r requirements.txt (line 4)) (4.60.1)\n",
      "Requirement already satisfied: kiwisolver>=1.3.1 in c:\\users\\qassas\\appdata\\local\\programs\\python\\python313\\lib\\site-packages (from matplotlib>=3.1->-r requirements.txt (line 4)) (1.4.9)\n",
      "Requirement already satisfied: packaging>=20.0 in c:\\users\\qassas\\appdata\\roaming\\python\\python313\\site-packages (from matplotlib>=3.1->-r requirements.txt (line 4)) (25.0)\n",
      "Requirement already satisfied: pillow>=8 in c:\\users\\qassas\\appdata\\local\\programs\\python\\python313\\lib\\site-packages (from matplotlib>=3.1->-r requirements.txt (line 4)) (12.0.0)\n",
      "Requirement already satisfied: pyparsing>=3 in c:\\users\\qassas\\appdata\\local\\programs\\python\\python313\\lib\\site-packages (from matplotlib>=3.1->-r requirements.txt (line 4)) (3.2.5)\n",
      "Requirement already satisfied: narwhals>=1.15.1 in c:\\users\\qassas\\appdata\\local\\programs\\python\\python313\\lib\\site-packages (from plotly>=5.0->-r requirements.txt (line 5)) (2.9.0)\n",
      "Requirement already satisfied: Flask<3.2,>=1.0.4 in c:\\users\\qassas\\appdata\\local\\programs\\python\\python313\\lib\\site-packages (from dash>=2.0->-r requirements.txt (line 6)) (3.1.2)\n",
      "Requirement already satisfied: Werkzeug<3.2 in c:\\users\\qassas\\appdata\\local\\programs\\python\\python313\\lib\\site-packages (from dash>=2.0->-r requirements.txt (line 6)) (3.1.3)\n",
      "Requirement already satisfied: importlib-metadata in c:\\users\\qassas\\appdata\\local\\programs\\python\\python313\\lib\\site-packages (from dash>=2.0->-r requirements.txt (line 6)) (8.7.0)\n",
      "Requirement already satisfied: typing-extensions>=4.1.1 in c:\\users\\qassas\\appdata\\local\\programs\\python\\python313\\lib\\site-packages (from dash>=2.0->-r requirements.txt (line 6)) (4.15.0)\n",
      "Requirement already satisfied: requests in c:\\users\\qassas\\appdata\\local\\programs\\python\\python313\\lib\\site-packages (from dash>=2.0->-r requirements.txt (line 6)) (2.32.5)\n",
      "Requirement already satisfied: retrying in c:\\users\\qassas\\appdata\\local\\programs\\python\\python313\\lib\\site-packages (from dash>=2.0->-r requirements.txt (line 6)) (1.4.2)\n",
      "Requirement already satisfied: nest-asyncio in c:\\users\\qassas\\appdata\\roaming\\python\\python313\\site-packages (from dash>=2.0->-r requirements.txt (line 6)) (1.6.0)\n",
      "Requirement already satisfied: setuptools in c:\\users\\qassas\\appdata\\local\\programs\\python\\python313\\lib\\site-packages (from dash>=2.0->-r requirements.txt (line 6)) (80.9.0)\n",
      "Requirement already satisfied: blinker>=1.9.0 in c:\\users\\qassas\\appdata\\local\\programs\\python\\python313\\lib\\site-packages (from Flask<3.2,>=1.0.4->dash>=2.0->-r requirements.txt (line 6)) (1.9.0)\n",
      "Requirement already satisfied: click>=8.1.3 in c:\\users\\qassas\\appdata\\local\\programs\\python\\python313\\lib\\site-packages (from Flask<3.2,>=1.0.4->dash>=2.0->-r requirements.txt (line 6)) (8.3.0)\n",
      "Requirement already satisfied: itsdangerous>=2.2.0 in c:\\users\\qassas\\appdata\\local\\programs\\python\\python313\\lib\\site-packages (from Flask<3.2,>=1.0.4->dash>=2.0->-r requirements.txt (line 6)) (2.2.0)\n",
      "Requirement already satisfied: jinja2>=3.1.2 in c:\\users\\qassas\\appdata\\local\\programs\\python\\python313\\lib\\site-packages (from Flask<3.2,>=1.0.4->dash>=2.0->-r requirements.txt (line 6)) (3.1.6)\n",
      "Requirement already satisfied: markupsafe>=2.1.1 in c:\\users\\qassas\\appdata\\local\\programs\\python\\python313\\lib\\site-packages (from Flask<3.2,>=1.0.4->dash>=2.0->-r requirements.txt (line 6)) (3.0.3)\n",
      "Requirement already satisfied: fastjsonschema>=2.15 in c:\\users\\qassas\\appdata\\local\\programs\\python\\python313\\lib\\site-packages (from nbformat>=4.2.0->-r requirements.txt (line 7)) (2.21.2)\n",
      "Requirement already satisfied: jsonschema>=2.6 in c:\\users\\qassas\\appdata\\local\\programs\\python\\python313\\lib\\site-packages (from nbformat>=4.2.0->-r requirements.txt (line 7)) (4.25.1)\n",
      "Requirement already satisfied: jupyter-core!=5.0.*,>=4.12 in c:\\users\\qassas\\appdata\\roaming\\python\\python313\\site-packages (from nbformat>=4.2.0->-r requirements.txt (line 7)) (5.9.1)\n",
      "Requirement already satisfied: traitlets>=5.1 in c:\\users\\qassas\\appdata\\roaming\\python\\python313\\site-packages (from nbformat>=4.2.0->-r requirements.txt (line 7)) (5.14.3)\n",
      "Requirement already satisfied: scipy>=1.8.0 in c:\\users\\qassas\\appdata\\local\\programs\\python\\python313\\lib\\site-packages (from scikit-learn>=0.24->-r requirements.txt (line 8)) (1.16.2)\n",
      "Requirement already satisfied: joblib>=1.2.0 in c:\\users\\qassas\\appdata\\local\\programs\\python\\python313\\lib\\site-packages (from scikit-learn>=0.24->-r requirements.txt (line 8)) (1.5.2)\n",
      "Requirement already satisfied: threadpoolctl>=3.1.0 in c:\\users\\qassas\\appdata\\local\\programs\\python\\python313\\lib\\site-packages (from scikit-learn>=0.24->-r requirements.txt (line 8)) (3.6.0)\n",
      "Requirement already satisfied: colorama in c:\\users\\qassas\\appdata\\roaming\\python\\python313\\site-packages (from click>=8.1.3->Flask<3.2,>=1.0.4->dash>=2.0->-r requirements.txt (line 6)) (0.4.6)\n",
      "Requirement already satisfied: attrs>=22.2.0 in c:\\users\\qassas\\appdata\\local\\programs\\python\\python313\\lib\\site-packages (from jsonschema>=2.6->nbformat>=4.2.0->-r requirements.txt (line 7)) (25.4.0)\n",
      "Requirement already satisfied: jsonschema-specifications>=2023.03.6 in c:\\users\\qassas\\appdata\\local\\programs\\python\\python313\\lib\\site-packages (from jsonschema>=2.6->nbformat>=4.2.0->-r requirements.txt (line 7)) (2025.9.1)\n",
      "Requirement already satisfied: referencing>=0.28.4 in c:\\users\\qassas\\appdata\\local\\programs\\python\\python313\\lib\\site-packages (from jsonschema>=2.6->nbformat>=4.2.0->-r requirements.txt (line 7)) (0.37.0)\n",
      "Requirement already satisfied: rpds-py>=0.7.1 in c:\\users\\qassas\\appdata\\local\\programs\\python\\python313\\lib\\site-packages (from jsonschema>=2.6->nbformat>=4.2.0->-r requirements.txt (line 7)) (0.28.0)\n",
      "Requirement already satisfied: platformdirs>=2.5 in c:\\users\\qassas\\appdata\\roaming\\python\\python313\\site-packages (from jupyter-core!=5.0.*,>=4.12->nbformat>=4.2.0->-r requirements.txt (line 7)) (4.5.0)\n",
      "Requirement already satisfied: six>=1.5 in c:\\users\\qassas\\appdata\\roaming\\python\\python313\\site-packages (from python-dateutil>=2.8.2->pandas>=1.0->-r requirements.txt (line 1)) (1.17.0)\n",
      "Requirement already satisfied: zipp>=3.20 in c:\\users\\qassas\\appdata\\local\\programs\\python\\python313\\lib\\site-packages (from importlib-metadata->dash>=2.0->-r requirements.txt (line 6)) (3.23.0)\n",
      "Requirement already satisfied: charset_normalizer<4,>=2 in c:\\users\\qassas\\appdata\\local\\programs\\python\\python313\\lib\\site-packages (from requests->dash>=2.0->-r requirements.txt (line 6)) (3.4.4)\n",
      "Requirement already satisfied: idna<4,>=2.5 in c:\\users\\qassas\\appdata\\local\\programs\\python\\python313\\lib\\site-packages (from requests->dash>=2.0->-r requirements.txt (line 6)) (3.11)\n",
      "Requirement already satisfied: urllib3<3,>=1.21.1 in c:\\users\\qassas\\appdata\\local\\programs\\python\\python313\\lib\\site-packages (from requests->dash>=2.0->-r requirements.txt (line 6)) (2.5.0)\n",
      "Requirement already satisfied: certifi>=2017.4.17 in c:\\users\\qassas\\appdata\\local\\programs\\python\\python313\\lib\\site-packages (from requests->dash>=2.0->-r requirements.txt (line 6)) (2025.10.5)\n",
      "Note: you may need to restart the kernel to use updated packages.\n"
     ]
    }
   ],
   "source": [
    "%pip install -r requirements.txt"
   ]
  },
  {
   "cell_type": "code",
   "execution_count": 1,
   "id": "ee90dcdd",
   "metadata": {},
   "outputs": [],
   "source": [
    "import pandas as pd\n",
    "import seaborn as sns\n",
    "import plotly.express as px\n",
    "import dash\n",
    "from dash import html, dcc\n",
    "from dash.dependencies import Input, Output"
   ]
  },
  {
   "cell_type": "markdown",
   "id": "8700920e",
   "metadata": {},
   "source": [
    "This cell imports all the necessary libraries for the notebook:\n",
    "\n",
    "- **pandas as pd**: Essential for data manipulation, including DataFrame creation and operations like grouping and aggregation.\n",
    "- **seaborn as sns**: Used to load the built-in 'tips' dataset, which provides sample data for visualization examples.\n",
    "- **plotly.express as px**: A high-level interface for creating interactive plots like bar charts, scatter plots, and box plots.\n",
    "- **dash**: The core framework for building interactive web applications with Python.\n",
    "- **html, dcc from dash**: \n",
    "  - `html`: Provides HTML components for structuring the web page layout.\n",
    "  - `dcc`: Offers Dash core components, such as `dcc.Graph` for embedding interactive charts.\n",
    "- **Input, Output from dash.dependencies**: Used for creating interactive callbacks that update components based on user input (imported for completeness, though not utilized in this simple example).\n",
    "\n",
    "These imports enable data loading, visualization creation, and web app deployment."
   ]
  },
  {
   "cell_type": "markdown",
   "id": "91d55780",
   "metadata": {},
   "source": [
    "# Load the Tips Dataset"
   ]
  },
  {
   "cell_type": "code",
   "execution_count": 2,
   "id": "5976ca63",
   "metadata": {},
   "outputs": [],
   "source": [
    "df = sns.load_dataset('tips')"
   ]
  },
  {
   "cell_type": "markdown",
   "id": "75a856f3",
   "metadata": {},
   "source": [
    "This cell loads the Tips dataset using Seaborn's `load_dataset('tips')` function. Key details:\n",
    "\n",
    "- **Dataset Overview**: Contains 244 rows and 7 columns of restaurant data, including numerical (total_bill, tip, size) and categorical (sex, smoker, day, time) variables.\n",
    "- **Columns**:\n",
    "  - total_bill: Total amount of the bill (USD)\n",
    "  - tip: Tip amount given (USD)\n",
    "  - sex: Gender of the bill payer (Male/Female)\n",
    "  - smoker: Whether the party included smokers (Yes/No)\n",
    "  - day: Day of the week (Thur, Fri, Sat, Sun)\n",
    "  - time: Time of day (Lunch/Dinner)\n",
    "  - size: Number of people in the party\n",
    "- **Purpose**: This dataset is ideal for demonstrating data visualization techniques, as it combines continuous and categorical data, allowing exploration of relationships like tipping patterns by day or gender.\n",
    "- **Loading Method**: `sns.load_dataset('tips')` fetches the dataset directly from Seaborn's online repository, ensuring easy access without manual file handling."
   ]
  },
  {
   "cell_type": "markdown",
   "id": "9a76e0a1",
   "metadata": {},
   "source": [
    "# Create Interactive Bar Chart"
   ]
  },
  {
   "cell_type": "code",
   "execution_count": 3,
   "id": "b2098c15",
   "metadata": {},
   "outputs": [
    {
     "name": "stderr",
     "output_type": "stream",
     "text": [
      "C:\\Users\\qassas\\AppData\\Local\\Temp\\ipykernel_8660\\1465545839.py:1: FutureWarning: The default of observed=False is deprecated and will be changed to True in a future version of pandas. Pass observed=False to retain current behavior or observed=True to adopt the future default and silence this warning.\n",
      "  df_grouped = df.groupby('day')['tip'].mean().reset_index()\n"
     ]
    }
   ],
   "source": [
    "df_grouped = df.groupby('day')['tip'].mean().reset_index()\n",
    "fig_bar = px.bar(df_grouped, x='day', y='tip', color='day', title='Average Tip by Day')"
   ]
  },
  {
   "cell_type": "markdown",
   "id": "ee44f249",
   "metadata": {},
   "source": [
    "This cell creates an interactive bar chart showing average tip amounts by day of the week. Breakdown:\n",
    "\n",
    "- **Visualization Importance**:\n",
    "  - Bar charts excel at comparing quantitative values across categories.\n",
    "  - Helps identify daily patterns in tipping behavior, useful for restaurant management to optimize staffing or promotions.\n",
    "  - Reveals which days have higher average tips, potentially correlating with busier periods.\n",
    "\n",
    "- **Code Explanation**:\n",
    "  1. **Data Aggregation**: `df.groupby('day')['tip'].mean().reset_index()` groups the data by 'day', calculates the mean tip for each group, and resets the index to create a new DataFrame for plotting.\n",
    "  2. **Chart Creation**: `px.bar(df_grouped, x='day', y='tip', color='day', title='Average Tip by Day')` uses Plotly Express to generate the bar chart:\n",
    "     - `x='day'`: Sets days on the x-axis.\n",
    "     - `y='tip'`: Plots average tip values on the y-axis.\n",
    "     - `color='day'`: Assigns different colors to each day for easy differentiation.\n",
    "     - `title`: Adds a descriptive title.\n",
    "  3. **Interactivity**: Enables hovering for exact values, zooming, and panning for detailed inspection of daily variations.\n",
    "\n",
    "This chart provides actionable insights into tipping trends across weekdays."
   ]
  },
  {
   "cell_type": "markdown",
   "id": "3781a38c",
   "metadata": {},
   "source": [
    "# Create Interactive Pie Chart"
   ]
  },
  {
   "cell_type": "code",
   "execution_count": 4,
   "id": "7ae4a5d7",
   "metadata": {},
   "outputs": [],
   "source": [
    "fig_pie = px.pie(df, names='sex', title='Pie Chart of Gender Distribution')"
   ]
  },
  {
   "cell_type": "markdown",
   "id": "1b4f181e",
   "metadata": {},
   "source": [
    "This cell creates an interactive pie chart displaying the gender distribution of customers. Breakdown:\n",
    "\n",
    "- **Visualization Importance**:\n",
    "  - Pie charts effectively show proportions of a whole, making them ideal for categorical data.\n",
    "  - Helps understand demographic composition, which can inform targeted marketing or service adjustments.\n",
    "  - Quickly communicates the balance between male and female customers in the dataset.\n",
    "\n",
    "- **Code Explanation**:\n",
    "  1. **Data Selection**: Uses the 'sex' column from the DataFrame, which contains categorical values (Male/Female).\n",
    "  2. **Chart Creation**: `px.pie(df, names='sex', title='Pie Chart of Gender Distribution')` generates the pie chart:\n",
    "     - `names='sex'`: Specifies the column to use for creating pie slices.\n",
    "     - `title`: Provides a clear, descriptive title.\n",
    "  3. **Interactivity Features**:\n",
    "     - Hovering displays percentages and counts for each slice.\n",
    "     - Clicking on a slice isolates it for focused viewing.\n",
    "     - Enables easy comparison of gender representation in the data.\n",
    "\n",
    "This visualization supports demographic analysis for business decision-making."
   ]
  },
  {
   "cell_type": "markdown",
   "id": "de37af91",
   "metadata": {},
   "source": [
    "# Create Interactive Donut Chart"
   ]
  },
  {
   "cell_type": "code",
   "execution_count": 5,
   "id": "adafe7a3",
   "metadata": {},
   "outputs": [],
   "source": [
    "fig_donut = px.pie(df, names='smoker', hole=0.4, title='Donut Chart of Smoker Distribution')"
   ]
  },
  {
   "cell_type": "markdown",
   "id": "f81e36e9",
   "metadata": {},
   "source": [
    "This cell creates an interactive donut chart showing the distribution of smokers vs. non-smokers. Breakdown:\n",
    "\n",
    "- **Visualization Importance**:\n",
    "  - Donut charts are a modern variant of pie charts, offering a cleaner aesthetic while maintaining proportional representation.\n",
    "  - Useful for highlighting categorical distributions, such as smoking habits, which may correlate with other behaviors like tipping or spending.\n",
    "  - The central hole can be used for additional information or logos in more advanced designs.\n",
    "\n",
    "- **Code Explanation**:\n",
    "  1. **Data Source**: Leverages the 'smoker' column, a binary categorical variable (Yes/No).\n",
    "  2. **Chart Creation**: `px.pie(df, names='smoker', hole=0.4, title='Donut Chart of Smoker Distribution')` builds the donut chart:\n",
    "     - `names='smoker'`: Defines slices based on smoking status.\n",
    "     - `hole=0.4`: Creates a 40% central hole, distinguishing it from a standard pie chart.\n",
    "     - `title`: Adds a descriptive title for context.\n",
    "  3. **Interactivity**:\n",
    "     - Hover tooltips show percentages and exact counts.\n",
    "     - Slice isolation allows focusing on specific categories.\n",
    "     - Provides an engaging way to explore smoking prevalence in the dataset.\n",
    "\n",
    "This chart aids in understanding customer segmentation based on lifestyle factors."
   ]
  },
  {
   "cell_type": "markdown",
   "id": "671b61ed",
   "metadata": {},
   "source": [
    "# Create Interactive Scatter Plot"
   ]
  },
  {
   "cell_type": "code",
   "execution_count": 6,
   "id": "2dc13cf5",
   "metadata": {},
   "outputs": [],
   "source": [
    "fig_scatter = px.scatter(df, x='total_bill', y='tip', color='day', title='Scatter Plot of Total Bill vs Tip')"
   ]
  },
  {
   "cell_type": "markdown",
   "id": "d01a5db3",
   "metadata": {},
   "source": [
    "This cell creates an interactive scatter plot examining the relationship between total bill and tip amounts. Breakdown:\n",
    "\n",
    "- **Visualization Importance**:\n",
    "  - Scatter plots reveal correlations between two continuous variables and patterns across categories.\n",
    "  - Essential for identifying trends, such as whether higher bills lead to proportionally higher tips.\n",
    "  - Coloring by day allows comparison of relationships across different time periods.\n",
    "\n",
    "- **Code Explanation**:\n",
    "  1. **Variables Selected**:\n",
    "     - `x='total_bill'`: Total bill amount on the x-axis (independent variable).\n",
    "     - `y='tip'`: Tip amount on the y-axis (dependent variable).\n",
    "     - `color='day'`: Colors points by day of the week for categorical differentiation.\n",
    "  2. **Chart Creation**: `px.scatter(df, x='total_bill', y='tip', color='day', title='Scatter Plot of Total Bill vs Tip')` generates the plot:\n",
    "     - Plots each data point as a colored dot.\n",
    "     - `title`: Provides context for the visualization.\n",
    "  3. **Interactivity Features**:\n",
    "     - Hovering shows exact values for individual points.\n",
    "     - Zooming focuses on specific ranges.\n",
    "     - Selecting regions highlights subsets for detailed analysis.\n",
    "     - Helps uncover multivariate relationships and daily variations in tipping behavior.\n",
    "\n",
    "This plot is crucial for understanding spending and tipping patterns in the restaurant data."
   ]
  },
  {
   "cell_type": "markdown",
   "id": "ae2bb6bd",
   "metadata": {},
   "source": [
    "# Create Interactive Box Plot"
   ]
  },
  {
   "cell_type": "code",
   "execution_count": 7,
   "id": "410d6c66",
   "metadata": {},
   "outputs": [],
   "source": [
    "fig_box = px.box(df, x='day', y='tip', color='day', title='Box Plot of Tip Amount by Day')"
   ]
  },
  {
   "cell_type": "markdown",
   "id": "8b53d179",
   "metadata": {},
   "source": [
    "This cell creates an interactive box plot showing the distribution of tip amounts by day. Breakdown:\n",
    "\n",
    "- **Visualization Importance**:\n",
    "  - Box plots summarize data distributions, highlighting central tendency, spread, and outliers.\n",
    "  - Enables comparison of tip variability across days, identifying days with more consistent or variable tipping.\n",
    "  - Critical for statistical analysis, revealing potential anomalies or patterns in customer behavior.\n",
    "\n",
    "- **Code Explanation**:\n",
    "  1. **Data Mapping**:\n",
    "     - `x='day'`: Groups data by day on the x-axis.\n",
    "     - `y='tip'`: Plots tip amounts on the y-axis.\n",
    "     - `color='day'`: Uses color to distinguish between days.\n",
    "  2. **Chart Creation**: `px.box(df, x='day', y='tip', color='day', title='Box Plot of Tip Amount by Day')` builds the box plot:\n",
    "     - Displays median, quartiles, and whiskers for each day's tip distribution.\n",
    "     - `title`: Adds descriptive context.\n",
    "  3. **Interactivity**:\n",
    "     - Hovering over box components shows statistical values (median, quartiles, etc.).\n",
    "     - Zooming allows detailed examination of distributions.\n",
    "     - Helps identify outliers and compare variability across categories.\n",
    "\n",
    "This visualization provides deep statistical insights into daily tipping patterns."
   ]
  },
  {
   "cell_type": "markdown",
   "id": "8d8816e9",
   "metadata": {},
   "source": [
    "# Run the Dash App"
   ]
  },
  {
   "cell_type": "code",
   "execution_count": 12,
   "id": "e5d60c7e",
   "metadata": {},
   "outputs": [
    {
     "data": {
      "text/html": [
       "\n",
       "        <iframe\n",
       "            width=\"100%\"\n",
       "            height=\"650\"\n",
       "            src=\"http://127.0.0.1:8051/\"\n",
       "            frameborder=\"0\"\n",
       "            allowfullscreen\n",
       "            \n",
       "        ></iframe>\n",
       "        "
      ],
      "text/plain": [
       "<IPython.lib.display.IFrame at 0x216dc829d30>"
      ]
     },
     "metadata": {},
     "output_type": "display_data"
    }
   ],
   "source": [
    "app = dash.Dash(__name__)\n",
    "\n",
    "app.layout = html.Div([\n",
    "    html.H1('Tips Dataset Interactive Dashboard'),\n",
    "    dcc.Graph(figure=fig_bar),\n",
    "    dcc.Graph(figure=fig_pie),\n",
    "    dcc.Graph(figure=fig_donut),\n",
    "    dcc.Graph(figure=fig_scatter),\n",
    "    dcc.Graph(figure=fig_box)\n",
    "])\n",
    "\n",
    "if __name__ == '__main__':\n",
    "    app.run(debug=True, port=8051)"
   ]
  },
  {
   "cell_type": "markdown",
   "id": "5dd38b46",
   "metadata": {},
   "source": [
    "This cell sets up and runs the Dash web application to display the interactive dashboard. Breakdown:\n",
    "\n",
    "- **Application Structure**:\n",
    "  - **App Initialization**: `app = dash.Dash(__name__)` creates a new Dash application instance.\n",
    "  - **Layout Definition**: `app.layout = html.Div([...])` defines the page structure:\n",
    "    - `html.H1('Tips Dataset Interactive Dashboard')`: Main title for the dashboard.\n",
    "    - Five `dcc.Graph(figure=...)` components: Embed each created figure (bar, pie, donut, scatter, box) as interactive graphs.\n",
    "  - **Conditional Execution**: `if __name__ == '__main__':` ensures the app runs only when the script is executed directly.\n",
    "\n",
    "- **Code Explanation**:\n",
    "  1. **Dash App Creation**: Initializes the web app framework.\n",
    "  2. **Layout Components**:\n",
    "     - `html.Div`: Container for organizing page elements.\n",
    "     - `dcc.Graph`: Specialized component for rendering Plotly figures interactively.\n",
    "  3. **Server Launch**: `app.run_server(debug=True, port=8051)` starts the development server:\n",
    "     - `debug=True`: Enables hot reloading and error display for development.\n",
    "     - `port=8051`: Specifies the port to avoid conflicts.\n",
    "     - Access the dashboard at http://127.0.0.1:8051/ in a web browser.\n",
    "\n",
    "- **Benefits**:\n",
    "  - Combines all visualizations into a single, interactive web interface.\n",
    "  - Allows users to explore data through hovering, zooming, and filtering without coding.\n",
    "  - Facilitates data-driven decision-making by presenting insights in an accessible format."
   ]
  }
 ],
 "metadata": {
  "kernelspec": {
   "display_name": "Python 3",
   "language": "python",
   "name": "python3"
  },
  "language_info": {
   "codemirror_mode": {
    "name": "ipython",
    "version": 3
   },
   "file_extension": ".py",
   "mimetype": "text/x-python",
   "name": "python",
   "nbconvert_exporter": "python",
   "pygments_lexer": "ipython3",
   "version": "3.13.7"
  }
 },
 "nbformat": 4,
 "nbformat_minor": 5
}
