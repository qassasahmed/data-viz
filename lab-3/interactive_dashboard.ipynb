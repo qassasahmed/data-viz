{
 "cells": [
  {
   "cell_type": "markdown",
   "id": "9fe75c30",
   "metadata": {},
   "source": [
    "# Import Required Libraries"
   ]
  },
  {
   "cell_type": "code",
   "execution_count": null,
   "id": "9a3146b0",
   "metadata": {},
   "outputs": [],
   "source": [
    "%pip install -r requirements.txt"
   ]
  },
  {
   "cell_type": "code",
   "execution_count": null,
   "id": "ee90dcdd",
   "metadata": {},
   "outputs": [],
   "source": [
    "import pandas as pd\n",
    "import seaborn as sns\n",
    "import plotly.express as px\n",
    "import dash\n",
    "from dash import html, dcc\n",
    "from dash.dependencies import Input, Output"
   ]
  },
  {
   "cell_type": "markdown",
   "id": "8700920e",
   "metadata": {},
   "source": [
    "This cell imports all the necessary libraries for the notebook:\n",
    "\n",
    "- **pandas as pd**: Essential for data manipulation, including DataFrame creation and operations like grouping and aggregation.\n",
    "- **seaborn as sns**: Used to load the built-in 'tips' dataset, which provides sample data for visualization examples.\n",
    "- **plotly.express as px**: A high-level interface for creating interactive plots like bar charts, scatter plots, and box plots.\n",
    "- **dash**: The core framework for building interactive web applications with Python.\n",
    "- **html, dcc from dash**: \n",
    "  - `html`: Provides HTML components for structuring the web page layout.\n",
    "  - `dcc`: Offers Dash core components, such as `dcc.Graph` for embedding interactive charts.\n",
    "- **Input, Output from dash.dependencies**: Used for creating interactive callbacks that update components based on user input (imported for completeness, though not utilized in this simple example).\n",
    "\n",
    "These imports enable data loading, visualization creation, and web app deployment."
   ]
  },
  {
   "cell_type": "markdown",
   "id": "91d55780",
   "metadata": {},
   "source": [
    "# Load the Tips Dataset"
   ]
  },
  {
   "cell_type": "code",
   "execution_count": null,
   "id": "5976ca63",
   "metadata": {},
   "outputs": [],
   "source": [
    "df = sns.load_dataset('tips')"
   ]
  },
  {
   "cell_type": "markdown",
   "id": "75a856f3",
   "metadata": {},
   "source": [
    "This cell loads the Tips dataset using Seaborn's `load_dataset('tips')` function. Key details:\n",
    "\n",
    "- **Dataset Overview**: Contains 244 rows and 7 columns of restaurant data, including numerical (total_bill, tip, size) and categorical (sex, smoker, day, time) variables.\n",
    "- **Columns**:\n",
    "  - total_bill: Total amount of the bill (USD)\n",
    "  - tip: Tip amount given (USD)\n",
    "  - sex: Gender of the bill payer (Male/Female)\n",
    "  - smoker: Whether the party included smokers (Yes/No)\n",
    "  - day: Day of the week (Thur, Fri, Sat, Sun)\n",
    "  - time: Time of day (Lunch/Dinner)\n",
    "  - size: Number of people in the party\n",
    "- **Purpose**: This dataset is ideal for demonstrating data visualization techniques, as it combines continuous and categorical data, allowing exploration of relationships like tipping patterns by day or gender.\n",
    "- **Loading Method**: `sns.load_dataset('tips')` fetches the dataset directly from Seaborn's online repository, ensuring easy access without manual file handling."
   ]
  },
  {
   "cell_type": "markdown",
   "id": "9a76e0a1",
   "metadata": {},
   "source": [
    "# Create Interactive Bar Chart"
   ]
  },
  {
   "cell_type": "code",
   "execution_count": null,
   "id": "b2098c15",
   "metadata": {},
   "outputs": [],
   "source": [
    "df_grouped = df.groupby('day')['tip'].mean().reset_index()\n",
    "fig_bar = px.bar(df_grouped, x='day', y='tip', color='day', title='Average Tip by Day')"
   ]
  },
  {
   "cell_type": "markdown",
   "id": "ee44f249",
   "metadata": {},
   "source": [
    "This cell creates an interactive bar chart showing average tip amounts by day of the week. Breakdown:\n",
    "\n",
    "- **Visualization Importance**:\n",
    "  - Bar charts excel at comparing quantitative values across categories.\n",
    "  - Helps identify daily patterns in tipping behavior, useful for restaurant management to optimize staffing or promotions.\n",
    "  - Reveals which days have higher average tips, potentially correlating with busier periods.\n",
    "\n",
    "- **Code Explanation**:\n",
    "  1. **Data Aggregation**: `df.groupby('day')['tip'].mean().reset_index()` groups the data by 'day', calculates the mean tip for each group, and resets the index to create a new DataFrame for plotting.\n",
    "  2. **Chart Creation**: `px.bar(df_grouped, x='day', y='tip', color='day', title='Average Tip by Day')` uses Plotly Express to generate the bar chart:\n",
    "     - `x='day'`: Sets days on the x-axis.\n",
    "     - `y='tip'`: Plots average tip values on the y-axis.\n",
    "     - `color='day'`: Assigns different colors to each day for easy differentiation.\n",
    "     - `title`: Adds a descriptive title.\n",
    "  3. **Interactivity**: Enables hovering for exact values, zooming, and panning for detailed inspection of daily variations.\n",
    "\n",
    "This chart provides actionable insights into tipping trends across weekdays."
   ]
  },
  {
   "cell_type": "markdown",
   "id": "3781a38c",
   "metadata": {},
   "source": [
    "# Create Interactive Pie Chart"
   ]
  },
  {
   "cell_type": "code",
   "execution_count": null,
   "id": "7ae4a5d7",
   "metadata": {},
   "outputs": [],
   "source": [
    "fig_pie = px.pie(df, names='sex', title='Pie Chart of Gender Distribution')"
   ]
  },
  {
   "cell_type": "markdown",
   "id": "1b4f181e",
   "metadata": {},
   "source": [
    "This cell creates an interactive pie chart displaying the gender distribution of customers. Breakdown:\n",
    "\n",
    "- **Visualization Importance**:\n",
    "  - Pie charts effectively show proportions of a whole, making them ideal for categorical data.\n",
    "  - Helps understand demographic composition, which can inform targeted marketing or service adjustments.\n",
    "  - Quickly communicates the balance between male and female customers in the dataset.\n",
    "\n",
    "- **Code Explanation**:\n",
    "  1. **Data Selection**: Uses the 'sex' column from the DataFrame, which contains categorical values (Male/Female).\n",
    "  2. **Chart Creation**: `px.pie(df, names='sex', title='Pie Chart of Gender Distribution')` generates the pie chart:\n",
    "     - `names='sex'`: Specifies the column to use for creating pie slices.\n",
    "     - `title`: Provides a clear, descriptive title.\n",
    "  3. **Interactivity Features**:\n",
    "     - Hovering displays percentages and counts for each slice.\n",
    "     - Clicking on a slice isolates it for focused viewing.\n",
    "     - Enables easy comparison of gender representation in the data.\n",
    "\n",
    "This visualization supports demographic analysis for business decision-making."
   ]
  },
  {
   "cell_type": "markdown",
   "id": "de37af91",
   "metadata": {},
   "source": [
    "# Create Interactive Donut Chart"
   ]
  },
  {
   "cell_type": "code",
   "execution_count": null,
   "id": "adafe7a3",
   "metadata": {},
   "outputs": [],
   "source": [
    "fig_donut = px.pie(df, names='smoker', hole=0.4, title='Donut Chart of Smoker Distribution')"
   ]
  },
  {
   "cell_type": "markdown",
   "id": "f81e36e9",
   "metadata": {},
   "source": [
    "This cell creates an interactive donut chart showing the distribution of smokers vs. non-smokers. Breakdown:\n",
    "\n",
    "- **Visualization Importance**:\n",
    "  - Donut charts are a modern variant of pie charts, offering a cleaner aesthetic while maintaining proportional representation.\n",
    "  - Useful for highlighting categorical distributions, such as smoking habits, which may correlate with other behaviors like tipping or spending.\n",
    "  - The central hole can be used for additional information or logos in more advanced designs.\n",
    "\n",
    "- **Code Explanation**:\n",
    "  1. **Data Source**: Leverages the 'smoker' column, a binary categorical variable (Yes/No).\n",
    "  2. **Chart Creation**: `px.pie(df, names='smoker', hole=0.4, title='Donut Chart of Smoker Distribution')` builds the donut chart:\n",
    "     - `names='smoker'`: Defines slices based on smoking status.\n",
    "     - `hole=0.4`: Creates a 40% central hole, distinguishing it from a standard pie chart.\n",
    "     - `title`: Adds a descriptive title for context.\n",
    "  3. **Interactivity**:\n",
    "     - Hover tooltips show percentages and exact counts.\n",
    "     - Slice isolation allows focusing on specific categories.\n",
    "     - Provides an engaging way to explore smoking prevalence in the dataset.\n",
    "\n",
    "This chart aids in understanding customer segmentation based on lifestyle factors."
   ]
  },
  {
   "cell_type": "markdown",
   "id": "671b61ed",
   "metadata": {},
   "source": [
    "# Create Interactive Scatter Plot"
   ]
  },
  {
   "cell_type": "code",
   "execution_count": null,
   "id": "2dc13cf5",
   "metadata": {},
   "outputs": [],
   "source": [
    "fig_scatter = px.scatter(df, x='total_bill', y='tip', color='day', title='Scatter Plot of Total Bill vs Tip')"
   ]
  },
  {
   "cell_type": "markdown",
   "id": "d01a5db3",
   "metadata": {},
   "source": [
    "This cell creates an interactive scatter plot examining the relationship between total bill and tip amounts. Breakdown:\n",
    "\n",
    "- **Visualization Importance**:\n",
    "  - Scatter plots reveal correlations between two continuous variables and patterns across categories.\n",
    "  - Essential for identifying trends, such as whether higher bills lead to proportionally higher tips.\n",
    "  - Coloring by day allows comparison of relationships across different time periods.\n",
    "\n",
    "- **Code Explanation**:\n",
    "  1. **Variables Selected**:\n",
    "     - `x='total_bill'`: Total bill amount on the x-axis (independent variable).\n",
    "     - `y='tip'`: Tip amount on the y-axis (dependent variable).\n",
    "     - `color='day'`: Colors points by day of the week for categorical differentiation.\n",
    "  2. **Chart Creation**: `px.scatter(df, x='total_bill', y='tip', color='day', title='Scatter Plot of Total Bill vs Tip')` generates the plot:\n",
    "     - Plots each data point as a colored dot.\n",
    "     - `title`: Provides context for the visualization.\n",
    "  3. **Interactivity Features**:\n",
    "     - Hovering shows exact values for individual points.\n",
    "     - Zooming focuses on specific ranges.\n",
    "     - Selecting regions highlights subsets for detailed analysis.\n",
    "     - Helps uncover multivariate relationships and daily variations in tipping behavior.\n",
    "\n",
    "This plot is crucial for understanding spending and tipping patterns in the restaurant data."
   ]
  },
  {
   "cell_type": "markdown",
   "id": "ae2bb6bd",
   "metadata": {},
   "source": [
    "# Create Interactive Box Plot"
   ]
  },
  {
   "cell_type": "code",
   "execution_count": null,
   "id": "410d6c66",
   "metadata": {},
   "outputs": [],
   "source": [
    "fig_box = px.box(df, x='day', y='tip', color='day', title='Box Plot of Tip Amount by Day')"
   ]
  },
  {
   "cell_type": "markdown",
   "id": "8b53d179",
   "metadata": {},
   "source": [
    "This cell creates an interactive box plot showing the distribution of tip amounts by day. Breakdown:\n",
    "\n",
    "- **Visualization Importance**:\n",
    "  - Box plots summarize data distributions, highlighting central tendency, spread, and outliers.\n",
    "  - Enables comparison of tip variability across days, identifying days with more consistent or variable tipping.\n",
    "  - Critical for statistical analysis, revealing potential anomalies or patterns in customer behavior.\n",
    "\n",
    "- **Code Explanation**:\n",
    "  1. **Data Mapping**:\n",
    "     - `x='day'`: Groups data by day on the x-axis.\n",
    "     - `y='tip'`: Plots tip amounts on the y-axis.\n",
    "     - `color='day'`: Uses color to distinguish between days.\n",
    "  2. **Chart Creation**: `px.box(df, x='day', y='tip', color='day', title='Box Plot of Tip Amount by Day')` builds the box plot:\n",
    "     - Displays median, quartiles, and whiskers for each day's tip distribution.\n",
    "     - `title`: Adds descriptive context.\n",
    "  3. **Interactivity**:\n",
    "     - Hovering over box components shows statistical values (median, quartiles, etc.).\n",
    "     - Zooming allows detailed examination of distributions.\n",
    "     - Helps identify outliers and compare variability across categories.\n",
    "\n",
    "This visualization provides deep statistical insights into daily tipping patterns."
   ]
  },
  {
   "cell_type": "markdown",
   "id": "8d8816e9",
   "metadata": {},
   "source": [
    "# Run the Dash App"
   ]
  },
  {
   "cell_type": "code",
   "execution_count": null,
   "id": "e5d60c7e",
   "metadata": {},
   "outputs": [],
   "source": [
    "app = dash.Dash(__name__)\n",
    "\n",
    "app.layout = html.Div([\n",
    "    html.H1('Tips Dataset Interactive Dashboard'),\n",
    "    dcc.Graph(figure=fig_bar),\n",
    "    dcc.Graph(figure=fig_pie),\n",
    "    dcc.Graph(figure=fig_donut),\n",
    "    dcc.Graph(figure=fig_scatter),\n",
    "    dcc.Graph(figure=fig_box)\n",
    "])\n",
    "\n",
    "if __name__ == '__main__':\n",
    "    app.run(debug=True, port=8051)"
   ]
  },
  {
   "cell_type": "markdown",
   "id": "5dd38b46",
   "metadata": {},
   "source": [
    "This cell sets up and runs the Dash web application to display the interactive dashboard. Breakdown:\n",
    "\n",
    "- **Application Structure**:\n",
    "  - **App Initialization**: `app = dash.Dash(__name__)` creates a new Dash application instance.\n",
    "  - **Layout Definition**: `app.layout = html.Div([...])` defines the page structure:\n",
    "    - `html.H1('Tips Dataset Interactive Dashboard')`: Main title for the dashboard.\n",
    "    - Five `dcc.Graph(figure=...)` components: Embed each created figure (bar, pie, donut, scatter, box) as interactive graphs.\n",
    "  - **Conditional Execution**: `if __name__ == '__main__':` ensures the app runs only when the script is executed directly.\n",
    "\n",
    "- **Code Explanation**:\n",
    "  1. **Dash App Creation**: Initializes the web app framework.\n",
    "  2. **Layout Components**:\n",
    "     - `html.Div`: Container for organizing page elements.\n",
    "     - `dcc.Graph`: Specialized component for rendering Plotly figures interactively.\n",
    "  3. **Server Launch**: `app.run_server(debug=True, port=8051)` starts the development server:\n",
    "     - `debug=True`: Enables hot reloading and error display for development.\n",
    "     - `port=8051`: Specifies the port to avoid conflicts.\n",
    "     - Access the dashboard at http://127.0.0.1:8051/ in a web browser.\n",
    "\n",
    "- **Benefits**:\n",
    "  - Combines all visualizations into a single, interactive web interface.\n",
    "  - Allows users to explore data through hovering, zooming, and filtering without coding.\n",
    "  - Facilitates data-driven decision-making by presenting insights in an accessible format."
   ]
  }
 ],
 "metadata": {
  "kernelspec": {
   "display_name": "Python 3",
   "language": "python",
   "name": "python3"
  },
  "language_info": {
   "codemirror_mode": {
    "name": "ipython",
    "version": 3
   },
   "file_extension": ".py",
   "mimetype": "text/x-python",
   "name": "python",
   "nbconvert_exporter": "python",
   "pygments_lexer": "ipython3",
   "version": "3.13.7"
  }
 },
 "nbformat": 4,
 "nbformat_minor": 5
}
